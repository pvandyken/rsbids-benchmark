{
 "cells": [
  {
   "cell_type": "markdown",
   "metadata": {},
   "source": [
    "# rsbids Benchmarking\n",
    "\n",
    "Benchmark indexing and querying across rsbids, pybids, ancpbids, and bids2table. The benchmarking itelf is done with `pytest-benchmark`. This notebook is for visualizing the results.\n",
    "\n",
    "All benchmarks are performed with the default settings of `pytest-benchmark`, with 5 rounds per test.\n",
    "\n",
    "This notebook expects to find test results within the `.benchmarks` folder, with files labelled according to the pytest marks. See the project readme for more details."
   ]
  },
  {
   "cell_type": "code",
   "execution_count": null,
   "metadata": {},
   "outputs": [],
   "source": [
    "import json\n",
    "from matplotlib import pyplot as plt\n",
    "import seaborn as sns\n",
    "import pandas as pd\n",
    "from pathlib import Path\n",
    "\n",
    "import matplotlib.font_manager as fm\n",
    "for f in Path(\"styles/fonts\").iterdir():\n",
    "    fm.fontManager.addfont(str(f))\n",
    "plt.style.use(\"styles/pitayasmoothie-dark.mplstyle\")\n",
    "plt.rc(\"figure\", dpi=300)\n"
   ]
  },
  {
   "cell_type": "code",
   "execution_count": null,
   "metadata": {},
   "outputs": [],
   "source": [
    "get_data(\"query\", unit=\"ms\")"
   ]
  },
  {
   "cell_type": "code",
   "execution_count": null,
   "metadata": {},
   "outputs": [],
   "source": [
    "def get_data(task, unit=\"s\"):\n",
    "    df = pd.json_normalize(\n",
    "        json.loads(\n",
    "            next(Path(\".benchmarks/\").glob(f\"**/000[1234]_{task}.json\")).read_text()\n",
    "        )[\"benchmarks\"]\n",
    "    ).assign(\n",
    "        group=lambda df: df[\"name\"].str.extract(\"(pybids|rsbids|bids2table|ancp)\"),\n",
    "    )\n",
    "    df = df.loc[:, df.columns.str.startswith(\"stats\") | (df.columns == \"group\")].assign(\n",
    "        task=task, unit=unit\n",
    "    )\n",
    "    if unit == \"ms\":\n",
    "        for col in df.columns:\n",
    "            if not col.startswith(\"stats.\") or col[6:] not in [\n",
    "                \"min\",\n",
    "                \"max\",\n",
    "                \"mean\",\n",
    "                \"stddev\",\n",
    "                \"median\",\n",
    "                \"iqr\",\n",
    "                \"q1\",\n",
    "                \"q3\",\n",
    "            ]:\n",
    "                continue\n",
    "            df[col] *= 1000\n",
    "    return df\n",
    "\n",
    "\n",
    "# Get consistent color for each tool\n",
    "cmap = dict(\n",
    "    zip(\n",
    "        [\"pybids\", \"rsbids\", \"bids2table\", \"ancp\"],\n",
    "        plt.rcParams[\"axes.prop_cycle\"][:4].by_key()[\"color\"],\n",
    "    )\n",
    ")"
   ]
  },
  {
   "cell_type": "markdown",
   "metadata": {},
   "source": [
    "## Create the Results Table"
   ]
  },
  {
   "cell_type": "code",
   "execution_count": null,
   "metadata": {},
   "outputs": [],
   "source": [
    "print(\n",
    "    pd.concat(\n",
    "        [\n",
    "            get_data(\"indexing\"),\n",
    "            get_data(\"query\", unit=\"ms\"),\n",
    "            get_data(\"large_query\", unit=\"ms\"),\n",
    "            get_data(\"metadata\"),\n",
    "        ]\n",
    "    )\n",
    "    .set_index([\"task\", \"group\", \"unit\"])\n",
    "    .assign(\n",
    "        mean=lambda df: df[\"stats.max\"].map(\"{:0.3f}\".format),\n",
    "        std=lambda df: df[\"stats.stddev\"].map(\"{:0.3f}\".format),\n",
    "    )[[\"mean\", \"std\"]]\n",
    "    .apply(lambda row: f\"{row[0]} ± {row[1]}\", axis=1)\n",
    "    .rename(\"Time\")\n",
    "    .reset_index()\n",
    "    .assign(\n",
    "        task=lambda df: df[\"task\"].map({\n",
    "            \"indexing\": \"Indexing\",\n",
    "            \"query\": \"Query\",\n",
    "            \"large_query\": \"Large Query\",\n",
    "            \"metadata\": \"Indexing w/ Metadata\",\n",
    "        }),\n",
    "    )\n",
    "    .assign(\n",
    "        Tool=lambda df: df[\"group\"].map(\n",
    "            {\n",
    "                \"rsbids\": \"[`rsbids`](https://github.com/pvandyken/rsbids) (v0.0.1a1)\",\n",
    "                \"pybids\": \"[`pybids`](https://github.com/bids-standard/pybids) (v0.16.3)\",\n",
    "                \"ancp\": \"[`ancpbids-bids`](https://github.com/ANCPLabOldenburg/ancp-bids) (v0.2.2)\",\n",
    "                \"bids2table\": \"[`bids2table`](https://github.com/cmi-dair/bids2table) (v0.1.0a0)\",\n",
    "            }\n",
    "        ),\n",
    "        task=lambda df: df[[\"task\", \"unit\"]].apply(\n",
    "            lambda row: f\"{row[0]} ({row[1]})\", axis=1\n",
    "        ),\n",
    "    )\n",
    "    .pivot(index=\"Tool\", columns=\"task\", values=\"Time\")\n",
    "    .to_markdown()\n",
    ")"
   ]
  },
  {
   "cell_type": "markdown",
   "metadata": {},
   "source": [
    "## Create the figure"
   ]
  },
  {
   "cell_type": "code",
   "execution_count": null,
   "metadata": {},
   "outputs": [],
   "source": [
    "def plot(df, ax, x_lim=None, unit=\"s\"):\n",
    "    df = df.sort_values(\"stats.mean\")\n",
    "    if unit == \"ms\":\n",
    "        df[\"stats.mean\"] *= 1000\n",
    "    sns.set_style(rc=plt.rcParams)\n",
    "    ax = sns.barplot(\n",
    "        df, x=\"stats.mean\", y=\"group\", ax=ax, palette=df[\"group\"].map(cmap)\n",
    "    )\n",
    "    ax.set_ylabel(\"Tool\")\n",
    "    ax.set_xlabel(f\"Time ({unit})\")\n",
    "    ax.bar_label(ax.containers[0], df[\"stats.mean\"].map(\"{:0.2f}\".format), padding=3)\n",
    "    if x_lim:\n",
    "        ax.set_xlim([0, x_lim])\n",
    "    return ax\n",
    "\n",
    "\n",
    "fig = plt.figure(figsize=(10, 6), layout=\"constrained\")\n",
    "axs = fig.subplots(2, 2)\n",
    "\n",
    "ax = plot(get_data(\"indexing\"), axs[0, 0])\n",
    "ax.set_title(\"Indexing 177k files (no metadata)\", weight=\"bold\")\n",
    "ax = plot(get_data(\"metadata\"), axs[0, 1])\n",
    "ax.set_title(\"Indexing 177k files (with metadata)\", weight=\"bold\")\n",
    "ax = plot(get_data(\"query\"), axs[1, 0], x_lim=1000, unit=\"ms\")\n",
    "ax.set_title(\"Small query (single subject)\", weight=\"bold\")\n",
    "ax.text(\n",
    "    850,\n",
    "    3.05,\n",
    "    \"{:0.0f} →\".format(\n",
    "        get_data(\"query\").set_index(\"group\").loc[\"ancp\"][\"stats.mean\"] * 1000\n",
    "    ),\n",
    "    weight=\"bold\",\n",
    "    color=\"black\",\n",
    ")\n",
    "ax = plot(get_data(\"large_query\"), axs[1, 1], x_lim=1000, unit=\"ms\")\n",
    "ax.text(\n",
    "    820,\n",
    "    3.05,\n",
    "    \"{:,.0f} →\".format(\n",
    "        get_data(\"large_query\").set_index(\"group\").loc[\"ancp\"][\"stats.mean\"] * 1000\n",
    "    ),\n",
    "    weight=\"bold\",\n",
    "    color=\"black\",\n",
    ")\n",
    "ax.set_title(\"Large query (14 subject, 1 run, 1 suffix)\", weight=\"bold\")"
   ]
  }
 ],
 "metadata": {
  "kernelspec": {
   "display_name": "Python 3 (ipykernel)",
   "language": "python",
   "name": "python3"
  },
  "language_info": {
   "codemirror_mode": {
    "name": "ipython",
    "version": 3
   },
   "file_extension": ".py",
   "mimetype": "text/x-python",
   "name": "python",
   "nbconvert_exporter": "python",
   "pygments_lexer": "ipython3",
   "version": "3.11.2"
  }
 },
 "nbformat": 4,
 "nbformat_minor": 2
}
